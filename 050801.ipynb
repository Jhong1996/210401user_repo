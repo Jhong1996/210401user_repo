{
 "cells": [
  {
   "cell_type": "markdown",
   "metadata": {
    "collapsed": false
   },
   "source": [
    "# 飞桨常规赛：论文引用网络节点分类 - 4月第3名方案\n",
    "\n",
    "## 赛题介绍\n",
    "\n",
    "\n",
    "图神经网络（Graph Neural Network）是一种专门处理图结构数据的神经网络，目前被广泛应用于推荐系统、金融风控、生物计算中。图神经网络的经典问题主要有三种，包括节点分类、连接预测和图分类三种。本次比赛是图神经网络7日打卡课程的大作业，主要让同学们熟悉如何图神经网络处理节点分类问题。\n",
    "\n",
    "数据集为论文引用网络，图由大量的学术论文组成，节点之间的边是论文的引用关系，每一个节点提供简单的词向量组合的节点特征。我们的目的是给每篇论文推断出它的论文类别。\n",
    "\n",
    "\n",
    "\n"
   ]
  },
  {
   "cell_type": "markdown",
   "metadata": {
    "collapsed": false
   },
   "source": [
    "## 运行方式\n",
    "本次基线基于飞桨PaddlePaddle 1.8.4版本，若本地运行则可能需要额外安装pgl、easydict、pandas等模块。\n",
    "\n",
    "## 本地运行\n",
    "下载左侧文件夹中的所有py文件（包括build_model.py, model.py）,以及work目录，然后在右上角“文件”->“导出Notebook到py”，这样可以保证代码是最新版本），执行导出的py文件即可。完成后下载submission.csv提交结果即可。\n",
    "\n",
    "## AI Studio (Notebook)运行\n",
    "依次运行下方的cell，完成后下载submission.csv提交结果即可。若运行时修改了cell，推荐在右上角重启执行器后再以此运行，避免因内存未清空而产生报错。 Tips：若修改了左侧文件夹中数据，也需要重启执行器后才会加载新文件。"
   ]
  },
  {
   "cell_type": "markdown",
   "metadata": {
    "collapsed": false
   },
   "source": [
    "## 代码整体逻辑\n",
    "\n",
    "1. 读取提供的数据集，包含构图以及读取节点特征（用户可自己改动边的构造方式）\n",
    "\n",
    "2. 配置化生成模型，用户也可以根据教程进行图神经网络的实现。\n",
    "\n",
    "3. 开始训练\n",
    "\n",
    "4. 执行预测并产生结果文件\n"
   ]
  },
  {
   "cell_type": "markdown",
   "metadata": {
    "collapsed": false
   },
   "source": [
    "## 环境配置\n",
    "\n",
    "该项目依赖飞桨paddlepaddle==1.8.4, 以及pgl==1.2.0。请按照版本号下载对应版本就可运行。"
   ]
  },
  {
   "cell_type": "code",
   "execution_count": null,
   "metadata": {
    "collapsed": false
   },
   "outputs": [],
   "source": [
    "# 如果需要进行持久化安装, 需要使用持久化路径, 如下方代码示例:\n",
    "# If a persistence installation is required, \n",
    "# you need to use the persistence path as the following: \n",
    "# !mkdir /home/aistudio/external-libraries\n",
    "# !pip install pgl easydict -q -t /home/aistudio/external-libraries"
   ]
  },
  {
   "cell_type": "code",
   "execution_count": null,
   "metadata": {
    "collapsed": false
   },
   "outputs": [],
   "source": []
  },
  {
   "cell_type": "code",
   "execution_count": null,
   "metadata": {
    "collapsed": false
   },
   "outputs": [],
   "source": [
    "# 同时添加如下代码, 这样每次环境(kernel)启动的时候只要运行下方代码即可: \n",
    "# Also add the following code, \n",
    "# so that every time the environment (kernel) starts, \n",
    "# just run the following code: \n",
    "import sys \n",
    "sys.path.append('/home/aistudio/external-libraries')"
   ]
  },
  {
   "cell_type": "markdown",
   "metadata": {
    "collapsed": false
   },
   "source": []
  },
  {
   "cell_type": "code",
   "execution_count": null,
   "metadata": {
    "collapsed": false
   },
   "outputs": [],
   "source": [
    "import pgl\n",
    "import paddle.fluid as fluid\n",
    "import numpy as np\n",
    "import time\n",
    "import pandas as pd"
   ]
  },
  {
   "cell_type": "markdown",
   "metadata": {
    "collapsed": false
   },
   "source": [
    "## 图网络配置\n",
    "\n",
    "这里已经有很多强大的模型配置了，你可以尝试简单的改一下config的字段。\n",
    "例如，换成GAT的配置\n",
    "```\n",
    "config = {\n",
    "    \"model_name\": \"GAT\",\n",
    "    \"num_layers\":  1,\n",
    "    \"dropout\": 0.5,\n",
    "    \"learning_rate\": 0.01,\n",
    "    \"weight_decay\": 0.0005,\n",
    "    \"edge_dropout\": 0.00,\n",
    "}\n",
    "```"
   ]
  },
  {
   "cell_type": "code",
   "execution_count": null,
   "metadata": {
    "collapsed": false
   },
   "outputs": [],
   "source": [
    "from easydict import EasyDict as edict\n",
    "\n",
    "# config = {\n",
    "#     \"model_name\": \"CustomGCN\",\n",
    "#     \"num_layers\": 16,\n",
    "#     \"dropout\": 0.5,\n",
    "#     \"hidden_size\": 2048,\n",
    "#     \"learning_rate\": 0.1,\n",
    "#     \"weight_decay\": 0.0005,\n",
    "#     \"edge_dropout\": 0.00,\n",
    "# }\n",
    "\n",
    "# config = {\n",
    "#     \"model_name\": \"ResGCN\",\n",
    "#     \"num_layers\": 3,\n",
    "#     \"dropout\": 0.2,\n",
    "#     \"hidden_size\": 512,\n",
    "#     \"learning_rate\": 0.001,\n",
    "#     \"weight_decay\": 0.0005,\n",
    "#     \"edge_dropout\": 0.005,\n",
    "# }\n",
    "\n",
    "config = {\n",
    "    \"model_name\": \"ResGAT\",\n",
    "    \"num_layers\":  3,\n",
    "    \"dropout\": 0,\n",
    "    \"hidden_size\": 64,\n",
    "    \"learning_rate\": 0.001,\n",
    "    \"weight_decay\": 0.0005,\n",
    "    \"edge_dropout\": 0.00,\n",
    "}\n",
    "\n",
    "\n",
    "# config = {\n",
    "#     \"model_name\": \"GCNII\",\n",
    "#     \"num_layers\": 1,\n",
    "#     \"hidden_size\": 32,\n",
    "#     \"dropout\": 0.2,\n",
    "#     \"learning_rate\": 0.05,\n",
    "#     \"alpha\": 0.1,\n",
    "#     \"lambda_l\": 0.5,\n",
    "#     \"k_hop\": 32,\n",
    "#     \"weight_decay\": 0.0005,\n",
    "#     \"edge_dropout\": 0.00,\n",
    "# }\n",
    "\n",
    "# config = {\n",
    "#     \"model_name\": \"GCN\",\n",
    "#     \"num_layers\": 2,\n",
    "#     \"dropout\": 0.5,\n",
    "#     \"hidden_size\": 1024,\n",
    "#     \"learning_rate\": 0.01,\n",
    "#     \"weight_decay\": 0.0005,\n",
    "#     \"edge_dropout\": 0.00,\n",
    "# }\n",
    "\n",
    "config = edict(config)"
   ]
  },
  {
   "cell_type": "markdown",
   "metadata": {
    "collapsed": false
   },
   "source": [
    "## 数据加载模块\n",
    "\n",
    "这里主要是用于读取数据集，包括读取图数据构图，以及训练集的划分。"
   ]
  },
  {
   "cell_type": "code",
   "execution_count": null,
   "metadata": {
    "collapsed": false
   },
   "outputs": [],
   "source": [
    "from collections import namedtuple\n",
    "\n",
    "Dataset = namedtuple(\"Dataset\", \n",
    "               [\"graph\", \"num_classes\", \"train_index\",\n",
    "                \"train_label\", \"valid_index\", \"valid_label\", \"test_index\"])\n",
    "\n",
    "def load_edges(num_nodes, self_loop=True, add_inverse_edge=True):\n",
    "    # 从数据中读取边\n",
    "    edges = pd.read_csv(\"work/edges.csv\", header=None, names=[\"src\", \"dst\"]).values\n",
    "\n",
    "    if add_inverse_edge:\n",
    "        edges = np.vstack([edges, edges[:, ::-1]])\n",
    "\n",
    "    if self_loop:\n",
    "        src = np.arange(0, num_nodes)\n",
    "        dst = np.arange(0, num_nodes)\n",
    "        self_loop = np.vstack([src, dst]).T\n",
    "        edges = np.vstack([edges, self_loop])\n",
    "    \n",
    "    return edges\n",
    "\n",
    "def load():\n",
    "    # 从数据中读取点特征和边，以及数据划分\n",
    "    node_feat = np.load(\"work/feat.npy\")\n",
    "    num_nodes = node_feat.shape[0]\n",
    "    edges = load_edges(num_nodes=num_nodes, self_loop=True, add_inverse_edge=True)\n",
    "    graph = pgl.graph.Graph(num_nodes=num_nodes, edges=edges, node_feat={\"feat\": node_feat})\n",
    "    \n",
    "    indegree = graph.indegree()\n",
    "    norm = np.maximum(indegree.astype(\"float32\"), 1)\n",
    "    norm = np.power(norm, -0.5)\n",
    "    graph.node_feat[\"norm\"] = np.expand_dims(norm, -1)\n",
    "    \n",
    "    df = pd.read_csv(\"work/train.csv\")\n",
    "    node_index = df[\"nid\"].values\n",
    "    node_label = df[\"label\"].values\n",
    "    train_part = int(len(node_index) * 0.8)\n",
    "    train_index = node_index[:train_part]\n",
    "    train_label = node_label[:train_part]\n",
    "    valid_index = node_index[train_part:]\n",
    "    valid_label = node_label[train_part:]\n",
    "    test_index = pd.read_csv(\"work/test.csv\")[\"nid\"].values\n",
    "    dataset = Dataset(graph=graph, \n",
    "                    train_label=train_label,\n",
    "                    train_index=train_index,\n",
    "                    valid_index=valid_index,\n",
    "                    valid_label=valid_label,\n",
    "                    test_index=test_index, num_classes=35)\n",
    "    return dataset"
   ]
  },
  {
   "cell_type": "code",
   "execution_count": null,
   "metadata": {
    "collapsed": false
   },
   "outputs": [],
   "source": [
    "dataset = load()\n",
    "\n",
    "train_index = dataset.train_index\n",
    "train_label = np.reshape(dataset.train_label, [-1 , 1])\n",
    "train_index = np.expand_dims(train_index, -1)\n",
    "\n",
    "val_index = dataset.valid_index\n",
    "val_label = np.reshape(dataset.valid_label, [-1, 1])\n",
    "val_index = np.expand_dims(val_index, -1)\n",
    "\n",
    "test_index = dataset.test_index\n",
    "test_index = np.expand_dims(test_index, -1)\n",
    "test_label = np.zeros((len(test_index), 1), dtype=\"int64\")\n"
   ]
  },
  {
   "cell_type": "markdown",
   "metadata": {
    "collapsed": false
   },
   "source": [
    "## 组网模块\n",
    "\n",
    "这里是组网模块，目前已经提供了一些预定义的模型，包括**GCN**, **GAT**, **APPNP**等。可以通过简单的配置，设定模型的层数，hidden_size等。你也可以深入到model.py里面，去奇思妙想，写自己的图神经网络。"
   ]
  },
  {
   "cell_type": "code",
   "execution_count": null,
   "metadata": {
    "collapsed": false
   },
   "outputs": [],
   "source": [
    "import pgl\n",
    "import model\n",
    "import paddle.fluid as fluid\n",
    "import numpy as np\n",
    "import time\n",
    "from build_model import build_model\n",
    "\n",
    "# 使用CPU\n",
    "# place = fluid.CPUPlace()\n",
    "\n",
    "# 使用GPU\n",
    "place = fluid.CUDAPlace(0)\n",
    "\n",
    "train_program = fluid.default_main_program()\n",
    "startup_program = fluid.default_startup_program()\n",
    "with fluid.program_guard(train_program, startup_program):\n",
    "    with fluid.unique_name.guard():\n",
    "        gw, loss, acc, pred = build_model(dataset,\n",
    "                            config=config,\n",
    "                            phase=\"train\",\n",
    "                            main_prog=train_program)\n",
    "\n",
    "test_program = fluid.Program()\n",
    "with fluid.program_guard(test_program, startup_program):\n",
    "    with fluid.unique_name.guard():\n",
    "        _gw, v_loss, v_acc, v_pred = build_model(dataset,\n",
    "            config=config,\n",
    "            phase=\"test\",\n",
    "            main_prog=test_program)\n",
    "\n",
    "\n",
    "test_program = test_program.clone(for_test=True)\n",
    "\n",
    "exe = fluid.Executor(place)"
   ]
  },
  {
   "cell_type": "markdown",
   "metadata": {
    "collapsed": false
   },
   "source": [
    "## 开始训练过程\n",
    "\n",
    "图神经网络采用FullBatch的训练方式，每一步训练就会把所有整张图训练样本全部训练一遍。\n",
    "\n"
   ]
  },
  {
   "cell_type": "code",
   "execution_count": null,
   "metadata": {
    "collapsed": false
   },
   "outputs": [
    {
     "name": "stdout",
     "output_type": "stream",
     "text": [
      "Epoch 0 Train Acc 0.027212216 Valid Acc 0.21556205\n",
      "Epoch 1 Train Acc 0.16973375 Valid Acc 0.17918417\n",
      "Epoch 2 Train Acc 0.18500392 Valid Acc 0.31380367\n",
      "Epoch 3 Train Acc 0.20643198 Valid Acc 0.24809568\n",
      "Epoch 4 Train Acc 0.22079447 Valid Acc 0.32270235\n",
      "Epoch 5 Train Acc 0.20666334 Valid Acc 0.17697729\n",
      "Epoch 6 Train Acc 0.17774259 Valid Acc 0.3660568\n",
      "Epoch 7 Train Acc 0.23787998 Valid Acc 0.35359862\n",
      "Epoch 8 Train Acc 0.27908096 Valid Acc 0.33081797\n"
     ]
    }
   ],
   "source": [
    "epoch = 3000\n",
    "exe.run(startup_program)\n",
    "\n",
    "# 将图数据变成 feed_dict 用于传入Paddle Excecutor\n",
    "feed_dict = gw.to_feed(dataset.graph)\n",
    "\n",
    "for epoch in range(epoch):\n",
    "    # Full Batch 训练\n",
    "    # 设定图上面那些节点要获取\n",
    "    # node_index: 训练节点的nid    \n",
    "    # node_label: 训练节点对应的标签\n",
    "    feed_dict[\"node_index\"] = np.array(train_index, dtype=\"int64\")\n",
    "    feed_dict[\"node_label\"] = np.array(train_label, dtype=\"int64\")\n",
    "    \n",
    "    train_loss, train_acc = exe.run(train_program,\n",
    "                                feed=feed_dict,\n",
    "                                fetch_list=[loss, acc],\n",
    "                                return_numpy=True)\n",
    "\n",
    "    # Full Batch 验证\n",
    "    # 设定图上面那些节点要获取\n",
    "    # node_index: 训练节点的nid    \n",
    "    # node_label: 训练节点对应的标签\n",
    "    feed_dict[\"node_index\"] = np.array(val_index, dtype=\"int64\")\n",
    "    feed_dict[\"node_label\"] = np.array(val_label, dtype=\"int64\")\n",
    "    val_loss, val_acc = exe.run(test_program,\n",
    "                            feed=feed_dict,\n",
    "                            fetch_list=[v_loss, v_acc],\n",
    "                            return_numpy=True)\n",
    "    print(\"Epoch\", epoch, \"Train Acc\", train_acc[0], \"Valid Acc\", val_acc[0])"
   ]
  },
  {
   "cell_type": "markdown",
   "metadata": {
    "collapsed": false
   },
   "source": [
    "## 对测试集进行预测\n",
    "\n",
    "训练完成后，我们对测试集进行预测。预测的时候，由于不知道测试集合的标签，我们随意给一些测试label。最终我们获得测试数据的预测结果。\n"
   ]
  },
  {
   "cell_type": "code",
   "execution_count": null,
   "metadata": {
    "collapsed": false
   },
   "outputs": [],
   "source": [
    "feed_dict[\"node_index\"] = np.array(test_index, dtype=\"int64\")\n",
    "feed_dict[\"node_label\"] = np.array(test_label, dtype=\"int64\") #假标签\n",
    "test_prediction = exe.run(test_program,\n",
    "                            feed=feed_dict,\n",
    "                            fetch_list=[v_pred],\n",
    "                            return_numpy=True)[0]"
   ]
  },
  {
   "cell_type": "markdown",
   "metadata": {
    "collapsed": false
   },
   "source": [
    "## 生成提交文件\n",
    "\n",
    "最后一步，我们可以使用pandas轻松生成提交文件，最后下载 submission.csv 提交就好了。"
   ]
  },
  {
   "cell_type": "code",
   "execution_count": null,
   "metadata": {
    "collapsed": false
   },
   "outputs": [],
   "source": [
    "submission = pd.DataFrame(data={\n",
    "                            \"nid\": test_index.reshape(-1),\n",
    "                            \"label\": test_prediction.reshape(-1)\n",
    "                        })\n",
    "submission.to_csv(\"submission.csv\", index=False)"
   ]
  },
  {
   "cell_type": "markdown",
   "metadata": {
    "collapsed": false
   },
   "source": [
    "## 进阶资料\n",
    "\n",
    "\n",
    "### 1. 自己动手实现图神经网络\n",
    "\n",
    "这里以想自己实现一个CustomGCN为例子\n",
    "\n",
    "首先，我们在model.py 创建一个类CustomGCN\n",
    "\n",
    "```\n",
    "import paddle.fluid.layers as L\n",
    "\n",
    "class CustomGCN(object):\n",
    "    \"\"\"实现自己的CustomGCN\"\"\"\n",
    "    def __init__(self, config, num_class):\n",
    "        # 分类的数目\n",
    "        self.num_class = num_class\n",
    "        # 分类的层数，默认为1\n",
    "        self.num_layers = config.get(\"num_layers\", 1)\n",
    "        # 中间层 hidden size 默认64\n",
    "        self.hidden_size = config.get(\"hidden_size\", 64)\n",
    "        # 默认dropout率0.5\n",
    "        self.dropout = config.get(\"dropout\", 0.5)\n",
    "        \n",
    "    def forward(self, graph_wrapper, feature, phase):\n",
    "        \"\"\"定义前向图神经网络\n",
    "        \n",
    "        graph_wrapper: 图的数据的容器\n",
    "        feature: 节点特征\n",
    "        phase: 标记训练或者测试阶段\n",
    "        \"\"\"\n",
    "        # 通过Send Recv来定义GCN\n",
    "        def send_func(src_feat, dst_feat, edge_feat):\n",
    "            # 发送函数简单将输入src发送到输出节点dst。\n",
    "            return { \"output\": src_feat[\"h\"] }\n",
    "            \n",
    "        def recv_func(msg):\n",
    "            # 对消息函数进行简单求均值\n",
    "            return L.sequence_pool(msg[\"output\"], \"average\")\n",
    "\t\t\n",
    "        # 调用发送\n",
    "        message = graph_wrapper.send(send_func,\n",
    "                               nfeat_list=[ (\"h\", feature)])\n",
    "                          \n",
    "        # 调用接收\n",
    "        output = graph_wrapper.recv(message, recv_func)\n",
    "        \n",
    "        # 对输出过一层MLP\n",
    "        output = L.fc(output, size=self.num_class, name=\"final_output\")\n",
    "```\n",
    "\n",
    "\n",
    "然后，我们只要改一下本notebook脚本的config，把model_type改成CustomGCN就能跑起来了。\n",
    "\n",
    "```\n",
    "config = {\n",
    "    \"model_name\": \"CustomGCN\",\n",
    "}\n",
    "```"
   ]
  },
  {
   "cell_type": "markdown",
   "metadata": {
    "collapsed": false
   },
   "source": [
    "### 2. One More Thing\n",
    "\n",
    "如果大家还想要别的奇思妙想，可以参考以下论文，他们都在节点分类上有很大提升。\n",
    "\n",
    "* Predict then Propagate: Graph Neural Networks meet Personalized PageRank (https://arxiv.org/abs/1810.05997)\n",
    "\n",
    "* Simple and Deep Graph Convolutional Networks (https://arxiv.org/abs/2007.02133)\n",
    "\n",
    "* Masked Label Prediction: Unified Message Passing Model for Semi-Supervised Classification (https://arxiv.org/abs/2009.03509)\n",
    "\n",
    "* Combining Label Propagation and Simple Models Out-performs Graph Neural Networks (https://arxiv.org/abs/2010.13993)\n",
    "\n",
    "\n",
    "大家也可以看看github的 [UniMP算法](https://github.com/PaddlePaddle/PGL/tree/main/ogb_examples/nodeproppred/unimp) 这个例子，里面有相似的数据集，并且最近也是SOTA效果，有帮助👏欢迎点Star"
   ]
  }
 ],
 "metadata": {
  "kernelspec": {
   "display_name": "PaddlePaddle 1.8.4 (Python 3.5)",
   "language": "python",
   "name": "py35-paddle1.2.0"
  },
  "language_info": {
   "codemirror_mode": {
    "name": "ipython",
    "version": 3
   },
   "file_extension": ".py",
   "mimetype": "text/x-python",
   "name": "python",
   "nbconvert_exporter": "python",
   "pygments_lexer": "ipython3",
   "version": "3.7.4"
  }
 },
 "nbformat": 4,
 "nbformat_minor": 1
}
